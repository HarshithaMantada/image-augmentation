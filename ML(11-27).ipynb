{
 "cells": [
  {
   "cell_type": "code",
   "execution_count": 1,
   "id": "2d2e4f82-949f-4ef6-aa5f-a4a2f32c06ab",
   "metadata": {},
   "outputs": [],
   "source": [
    "import numpy as np\n",
    "import cv2"
   ]
  },
  {
   "cell_type": "code",
   "execution_count": 3,
   "id": "c5354455-15c0-411a-b07f-894cc6212c5c",
   "metadata": {},
   "outputs": [],
   "source": [
    "vid = cv2.VideoCapture(0)\n",
    "# id 0 --- default web camera\n",
    "# 1\n",
    "\n",
    "while True:\n",
    "    suc,img = vid.read()\n",
    "\n",
    "    if suc==False:\n",
    "        print(\"camera not working\")\n",
    "        break\n",
    "\n",
    "    img1=cv2.cvtColor(img,cv2.COLOR_BGR2GRAY)\n",
    "\n",
    "    cv2.imshow(\"live_stream1\",img)\n",
    "    cv2.imshow(\"live_stream2\",img1)\n",
    "\n",
    "    if cv2.waitKey(1) & 255 == ord(\"w\"):\n",
    "        break\n",
    "\n",
    "cv2.destroyAllWindows()"
   ]
  },
  {
   "cell_type": "code",
   "execution_count": 4,
   "id": "7caab716-5099-4c54-b6e7-223c26bba0ce",
   "metadata": {},
   "outputs": [],
   "source": [
    "vid = cv2.VideoCapture(0)\n",
    "# id 0 --- default web camera\n",
    "# 1\n",
    "\n",
    "while True:\n",
    "    suc,img = vid.read()\n",
    "    \n",
    "    if suc==False:\n",
    "        print(\"camera not working\")\n",
    "        break\n",
    "\n",
    "    b,g,r = cv2.split(img)\n",
    "    z=np.zeros(b.shape,dtype=np.uint8)\n",
    "\n",
    "    cv2.imshow(\"live_stream1\",img)\n",
    "    cv2.imshow(\"live_stream2\",cv2.merge([b,z,z]))\n",
    "    cv2.imshow(\"live_stream3\",cv2.merge([z,g,z]))\n",
    "    cv2.imshow(\"live_stream4\",cv2.merge([z,z,r]))\n",
    "\n",
    "    if cv2.waitKey(1) & 255 == ord(\"w\"):\n",
    "        break\n",
    "\n",
    "cv2.destroyAllWindows()"
   ]
  },
  {
   "cell_type": "code",
   "execution_count": 2,
   "id": "4aeca730-52da-4ddb-a743-7fe2878cf2fc",
   "metadata": {},
   "outputs": [],
   "source": [
    "import os"
   ]
  },
  {
   "cell_type": "code",
   "execution_count": 5,
   "id": "ac6b991d-6e28-4b57-9faa-7536def74901",
   "metadata": {},
   "outputs": [],
   "source": [
    "os.makedirs(r\"C:\\Users\\HARSHITHA\\Downloads\\img_capture\")"
   ]
  },
  {
   "cell_type": "code",
   "execution_count": 6,
   "id": "97de1f23-582b-4bca-bb5b-8799bdd1f3e8",
   "metadata": {},
   "outputs": [
    {
     "name": "stdout",
     "output_type": "stream",
     "text": [
      "image have been captured\n",
      "image have been captured\n",
      "image have been captured\n",
      "image have been captured\n"
     ]
    }
   ],
   "source": [
    "vid = cv2.VideoCapture(0)\n",
    "# id 0 --- default web camera\n",
    "# 1\n",
    "c=0\n",
    "while True:\n",
    "    suc,img = vid.read()\n",
    "\n",
    "    if suc==False:\n",
    "        print(\"camera not working\")\n",
    "        break\n",
    "\n",
    "    cv2.imshow(\"video\",img)\n",
    "\n",
    "    if cv2.waitKey(1) & 255 == ord(\"s\"):\n",
    "        cv2.imwrite(r\"C:\\Users\\HARSHITHA\\Downloads\\img_capture\\{}.jpg\".format(c),img)\n",
    "        print(\"image have been captured\")\n",
    "        c+=1\n",
    "\n",
    "    if cv2.waitKey(1) & 255 == ord(\"w\"):\n",
    "        break\n",
    "\n",
    "cv2.destroyAllWindows()"
   ]
  },
  {
   "cell_type": "code",
   "execution_count": null,
   "id": "658b531c-dbc5-43e3-a8f5-b4ea13a1d77e",
   "metadata": {},
   "outputs": [],
   "source": []
  }
 ],
 "metadata": {
  "kernelspec": {
   "display_name": "Python 3 (ipykernel)",
   "language": "python",
   "name": "python3"
  },
  "language_info": {
   "codemirror_mode": {
    "name": "ipython",
    "version": 3
   },
   "file_extension": ".py",
   "mimetype": "text/x-python",
   "name": "python",
   "nbconvert_exporter": "python",
   "pygments_lexer": "ipython3",
   "version": "3.11.7"
  }
 },
 "nbformat": 4,
 "nbformat_minor": 5
}

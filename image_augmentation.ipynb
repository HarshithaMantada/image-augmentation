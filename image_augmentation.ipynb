{
 "cells": [
  {
   "cell_type": "markdown",
   "id": "9d2d01fc-aa6d-47b9-9bc6-cfa56ad11e72",
   "metadata": {},
   "source": [
    "### Image augmentation"
   ]
  },
  {
   "cell_type": "code",
   "execution_count": 1,
   "id": "70bc9b42-8852-4a51-a100-3ef41f56f35c",
   "metadata": {},
   "outputs": [],
   "source": [
    "import cv2\n",
    "import numpy as np\n",
    "import os"
   ]
  },
  {
   "cell_type": "code",
   "execution_count": 5,
   "id": "4315d46c-8c27-4c73-9359-bed8012ae95d",
   "metadata": {},
   "outputs": [],
   "source": [
    "img = cv2.imread(r\"C:\\Users\\HARSHITHA\\Downloads\\cat1.jpg\")"
   ]
  },
  {
   "cell_type": "code",
   "execution_count": 6,
   "id": "5bb11788-6fcb-4a32-80df-4ebf280ef6fa",
   "metadata": {},
   "outputs": [
    {
     "data": {
      "text/plain": [
       "(614, 900, 3)"
      ]
     },
     "execution_count": 6,
     "metadata": {},
     "output_type": "execute_result"
    }
   ],
   "source": [
    "img.shape"
   ]
  },
  {
   "cell_type": "markdown",
   "id": "19197370-f698-4667-9879-09388a013c49",
   "metadata": {},
   "source": [
    "### Translation"
   ]
  },
  {
   "cell_type": "code",
   "execution_count": 38,
   "id": "54df5082-4307-443f-889c-41858c8c0875",
   "metadata": {},
   "outputs": [],
   "source": [
    "# translation matrix\n",
    "tx=50\n",
    "ty=50\n",
    "t_m=np.array([[1,0,tx],[0,1,ty]],dtype=np.float32)\n",
    "\n",
    "t_img = cv2.warpAffine(img,t_m,(900,614),borderMode=cv2.BORDER_CONSTANT,borderValue=(0,0,255))\n",
    "t_img1 = cv2.warpAffine(img,t_m,(900,614),borderMode=cv2.BORDER_REFLECT)"
   ]
  },
  {
   "cell_type": "code",
   "execution_count": 39,
   "id": "e01914eb-41ab-4681-8e0e-fa8474df8296",
   "metadata": {},
   "outputs": [
    {
     "data": {
      "text/plain": [
       "array([[ 1.,  0., 50.],\n",
       "       [ 0.,  1., 50.]], dtype=float32)"
      ]
     },
     "execution_count": 39,
     "metadata": {},
     "output_type": "execute_result"
    }
   ],
   "source": [
    "t_m"
   ]
  },
  {
   "cell_type": "code",
   "execution_count": 40,
   "id": "db195519-d9c7-495f-8f25-c83b586ab5bd",
   "metadata": {},
   "outputs": [],
   "source": [
    "cv2.imshow(\"o_i\",img)\n",
    "cv2.imshow(\"t_i\",t_img)\n",
    "cv2.imshow(\"t_i1\",t_img1)\n",
    "cv2.waitKey()\n",
    "cv2.destroyAllWindows()"
   ]
  },
  {
   "cell_type": "code",
   "execution_count": 41,
   "id": "319fe21f-d08a-4853-ac85-833663c28051",
   "metadata": {},
   "outputs": [
    {
     "data": {
      "text/plain": [
       "(614, 900, 3)"
      ]
     },
     "execution_count": 41,
     "metadata": {},
     "output_type": "execute_result"
    }
   ],
   "source": [
    "img.shape"
   ]
  },
  {
   "cell_type": "code",
   "execution_count": 43,
   "id": "d339a294-8cca-4fd5-8cca-b8cd233f1d5c",
   "metadata": {},
   "outputs": [
    {
     "data": {
      "text/plain": [
       "450"
      ]
     },
     "execution_count": 43,
     "metadata": {},
     "output_type": "execute_result"
    }
   ],
   "source": [
    "900//2"
   ]
  },
  {
   "cell_type": "markdown",
   "id": "1af475eb-1636-4ef5-aafa-a91a4b218a3b",
   "metadata": {},
   "source": [
    "### Rotation"
   ]
  },
  {
   "cell_type": "code",
   "execution_count": 56,
   "id": "9d96c791-101d-438d-9009-bb2345287e44",
   "metadata": {},
   "outputs": [],
   "source": [
    "r_m = cv2.getRotationMatrix2D((307,450),90,1)"
   ]
  },
  {
   "cell_type": "code",
   "execution_count": 57,
   "id": "cf84e2d1-2e16-4050-b946-c2d012caff1d",
   "metadata": {},
   "outputs": [
    {
     "data": {
      "text/plain": [
       "array([[ 6.123234e-17,  1.000000e+00, -1.430000e+02],\n",
       "       [-1.000000e+00,  6.123234e-17,  7.570000e+02]])"
      ]
     },
     "execution_count": 57,
     "metadata": {},
     "output_type": "execute_result"
    }
   ],
   "source": [
    "r_m"
   ]
  },
  {
   "cell_type": "code",
   "execution_count": 58,
   "id": "be1d7110-fd70-40b6-b595-7d8c35a0ab6f",
   "metadata": {},
   "outputs": [],
   "source": [
    "r_img = cv2.warpAffine(img,r_m,(900,614))"
   ]
  },
  {
   "cell_type": "code",
   "execution_count": 59,
   "id": "2eb2dbf0-cde8-454f-9bf3-bfc328639637",
   "metadata": {},
   "outputs": [],
   "source": [
    "cv2.imshow(\"o_i\",img)\n",
    "cv2.imshow(\"r_img\",r_img)\n",
    "cv2.waitKey()\n",
    "cv2.destroyAllWindows()"
   ]
  },
  {
   "cell_type": "code",
   "execution_count": 65,
   "id": "1e46b463-1776-433d-854d-85117a4e207d",
   "metadata": {},
   "outputs": [],
   "source": [
    "r_m = cv2.getRotationMatrix2D((0,0),10,1)\n",
    "r_img1 = cv2.warpAffine(img,r_m,(900,614))\n",
    "\n",
    "cv2.imshow(\"o_i\",img)\n",
    "cv2.imshow(\"r_img\",r_img1)\n",
    "cv2.waitKey()\n",
    "cv2.destroyAllWindows()"
   ]
  },
  {
   "cell_type": "code",
   "execution_count": 66,
   "id": "5ab5ea7a-586f-4981-a6e6-b7a89ac61168",
   "metadata": {},
   "outputs": [],
   "source": [
    "img1=cv2.rotate(img,cv2.ROTATE_180)\n",
    "img2=cv2.rotate(img,cv2.ROTATE_90_CLOCKWISE)\n",
    "img3=cv2.rotate(img,cv2.ROTATE_90_COUNTERCLOCKWISE)\n",
    "\n",
    "cv2.imshow(\"o_i\",img)\n",
    "cv2.imshow(\"r_img1\",img1)\n",
    "cv2.imshow(\"r_img2\",img2)\n",
    "cv2.imshow(\"r_img3\",img3)\n",
    "cv2.waitKey()\n",
    "cv2.destroyAllWindows()"
   ]
  },
  {
   "cell_type": "markdown",
   "id": "104f522a-dcf3-42da-ace3-d8b5294e61ac",
   "metadata": {},
   "source": [
    "### Scaling  \n",
    "zoom in or zoom out"
   ]
  },
  {
   "cell_type": "code",
   "execution_count": 85,
   "id": "e706818f-a950-42ce-960c-b56fdd1a73e5",
   "metadata": {},
   "outputs": [],
   "source": [
    "sx=2\n",
    "sy=2\n",
    "tx=10\n",
    "ty=10\n",
    "sc_m = np.array([[sx,0,tx],[0,sy,ty]],dtype=np.float32)"
   ]
  },
  {
   "cell_type": "code",
   "execution_count": 86,
   "id": "1447a331-3412-4a62-b195-7788250e16cf",
   "metadata": {},
   "outputs": [
    {
     "data": {
      "text/plain": [
       "array([[ 2.,  0., 10.],\n",
       "       [ 0.,  2., 10.]], dtype=float32)"
      ]
     },
     "execution_count": 86,
     "metadata": {},
     "output_type": "execute_result"
    }
   ],
   "source": [
    "sc_m"
   ]
  },
  {
   "cell_type": "code",
   "execution_count": 87,
   "id": "f413351e-32cb-437d-95e5-a868e08c6a35",
   "metadata": {},
   "outputs": [
    {
     "data": {
      "text/plain": [
       "(225, 225, 3)"
      ]
     },
     "execution_count": 87,
     "metadata": {},
     "output_type": "execute_result"
    }
   ],
   "source": [
    "img=cv2.imread(r\"C:\\Users\\HARSHITHA\\Downloads\\dog1.jpg\")\n",
    "img.shape"
   ]
  },
  {
   "cell_type": "code",
   "execution_count": 88,
   "id": "19e2cf6d-0f18-4bf1-860f-9f6c7a042e25",
   "metadata": {},
   "outputs": [],
   "source": [
    "scal_img = cv2.warpAffine(img,sc_m,(3*225,3*225))\n",
    "\n",
    "cv2.imshow(\"o_i\",img)\n",
    "cv2.imshow(\"s_im\",scal_img)\n",
    "cv2.waitKey()\n",
    "cv2.destroyAllWindows()"
   ]
  },
  {
   "cell_type": "code",
   "execution_count": 91,
   "id": "bbc1c08d-e5a2-4d7c-a248-fd16fed119af",
   "metadata": {},
   "outputs": [],
   "source": [
    "cv2.imshow(\"o_i\",cv2.resize(img,(500,500)))\n",
    "cv2.imshow(\"s_im\",cv2.resize(img,(50,50)))\n",
    "cv2.waitKey()\n",
    "cv2.destroyAllWindows()"
   ]
  },
  {
   "cell_type": "code",
   "execution_count": 92,
   "id": "c8df33b1-e3b8-4e4f-8a28-09709416622f",
   "metadata": {},
   "outputs": [],
   "source": [
    "zo_o = cv2.pyrDown(img)\n",
    "zo_i = cv2.pyrUp(img)"
   ]
  },
  {
   "cell_type": "code",
   "execution_count": 93,
   "id": "ee5dbd95-d737-4c11-95be-30013fc4629f",
   "metadata": {},
   "outputs": [],
   "source": [
    "cv2.imshow(\"o_i\",zo_o)\n",
    "cv2.imshow(\"s_im\",zo_i)\n",
    "cv2.waitKey()\n",
    "cv2.destroyAllWindows()"
   ]
  },
  {
   "cell_type": "markdown",
   "id": "cf51ac1c-9e64-45b5-af64-7a95460625fa",
   "metadata": {},
   "source": [
    "### Shearing"
   ]
  },
  {
   "cell_type": "code",
   "execution_count": 98,
   "id": "e2ccc12b-2eb5-4902-8b02-411fe4150c07",
   "metadata": {},
   "outputs": [],
   "source": [
    "shx=1\n",
    "shy=3\n",
    "tx=0\n",
    "ty=0\n",
    "sh_m = np.array([[0,shx,tx],[shy,1,ty]],dtype=np.float32)"
   ]
  },
  {
   "cell_type": "code",
   "execution_count": 100,
   "id": "d68ae0c9-298f-4d46-a915-76b146615dee",
   "metadata": {},
   "outputs": [],
   "source": [
    "shear_img = cv2.warpAffine(img,sh_m,(225,225))\n",
    "\n",
    "cv2.imshow(\"o_i\",img)\n",
    "cv2.imshow(\"s_im\",shear_img)\n",
    "cv2.waitKey()\n",
    "cv2.destroyAllWindows()"
   ]
  },
  {
   "cell_type": "markdown",
   "id": "3d7a614c-aae6-402e-a9a1-16973275024d",
   "metadata": {},
   "source": [
    "### Cropping"
   ]
  },
  {
   "cell_type": "code",
   "execution_count": 2,
   "id": "7338c70f-1522-404a-9d7c-329d9f505055",
   "metadata": {},
   "outputs": [],
   "source": [
    "img = cv2.imread(r\"C:\\Users\\HARSHITHA\\Downloads\\cat1.jpg\")"
   ]
  },
  {
   "cell_type": "code",
   "execution_count": 3,
   "id": "bc93da9b-d78b-44f2-96e1-60df35aaeed7",
   "metadata": {},
   "outputs": [
    {
     "data": {
      "text/plain": [
       "(614, 900, 3)"
      ]
     },
     "execution_count": 3,
     "metadata": {},
     "output_type": "execute_result"
    }
   ],
   "source": [
    "img.shape"
   ]
  },
  {
   "cell_type": "code",
   "execution_count": 12,
   "id": "1621412f-9398-473f-ad62-fa4949756563",
   "metadata": {},
   "outputs": [],
   "source": [
    "c_i = img[130:260, 230:410]"
   ]
  },
  {
   "cell_type": "code",
   "execution_count": 13,
   "id": "fbab774f-6a5a-45c1-bd0e-7225cace411a",
   "metadata": {},
   "outputs": [],
   "source": [
    "cv2.imshow(\"o_i\",img)\n",
    "cv2.imshow(\"s_im\",c_i)\n",
    "cv2.waitKey()\n",
    "cv2.destroyAllWindows()"
   ]
  },
  {
   "cell_type": "code",
   "execution_count": null,
   "id": "b97832f3-665a-43da-9aed-c11eb222bdcd",
   "metadata": {},
   "outputs": [],
   "source": []
  }
 ],
 "metadata": {
  "kernelspec": {
   "display_name": "Python 3 (ipykernel)",
   "language": "python",
   "name": "python3"
  },
  "language_info": {
   "codemirror_mode": {
    "name": "ipython",
    "version": 3
   },
   "file_extension": ".py",
   "mimetype": "text/x-python",
   "name": "python",
   "nbconvert_exporter": "python",
   "pygments_lexer": "ipython3",
   "version": "3.11.7"
  }
 },
 "nbformat": 4,
 "nbformat_minor": 5
}
